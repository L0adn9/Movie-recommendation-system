{
  "metadata": {
    "kernelspec": {
      "name": "python",
      "display_name": "Python (Pyodide)",
      "language": "python"
    },
    "language_info": {
      "codemirror_mode": {
        "name": "python",
        "version": 3
      },
      "file_extension": ".py",
      "mimetype": "text/x-python",
      "name": "python",
      "nbconvert_exporter": "python",
      "pygments_lexer": "ipython3",
      "version": "3.8"
    }
  },
  "nbformat_minor": 5,
  "nbformat": 4,
  "cells": [
    {
      "id": "a75b585e-583e-477f-9e71-18cec391a17f",
      "cell_type": "raw",
      "source": "Loading Data into python variables",
      "metadata": {}
    },
    {
      "id": "638ad567-8bcd-4182-ba36-7e56290d075e",
      "cell_type": "code",
      "source": "import pandas as pd\nfrom sklearn.metrics.pairwise import cosine_similarity\n\nratings = pd.read_csv('ratings.csv')\nmovies = pd.read_csv('movies.csv')",
      "metadata": {
        "trusted": true
      },
      "outputs": [],
      "execution_count": 10
    },
    {
      "id": "442c67d0-e2ca-45fd-b77c-111a599a9138",
      "cell_type": "raw",
      "source": "Creating a Matrix",
      "metadata": {}
    },
    {
      "id": "f27a14a9-99f2-4813-9585-c1280a6590c7",
      "cell_type": "code",
      "source": "new_matrix = ratings.pivot_table(index='user_id', columns='movie_id', values='rating')\nprint(new_matrix)",
      "metadata": {
        "trusted": true,
        "scrolled": true
      },
      "outputs": [
        {
          "name": "stdout",
          "output_type": "stream",
          "text": "movie_id   10   20   30\nuser_id                \n1         4.0  3.5  NaN\n2         4.5  NaN  2.0\n3         5.0  NaN  NaN\n"
        }
      ],
      "execution_count": 11
    },
    {
      "id": "d614983b-4026-42ba-9d50-4dbdf2c497bb",
      "cell_type": "raw",
      "source": "Filling missing rating values with zero",
      "metadata": {}
    },
    {
      "id": "1e911bff-a81a-41dd-a9ff-7a5a29431d7a",
      "cell_type": "code",
      "source": "fill_missing_ratings0 = new_matrix.fillna(0)\nprint(fill_missing_ratings0)\n     ",
      "metadata": {
        "trusted": true
      },
      "outputs": [
        {
          "name": "stdout",
          "output_type": "stream",
          "text": "movie_id   10   20   30\nuser_id                \n1         4.0  3.5  0.0\n2         4.5  0.0  2.0\n3         5.0  0.0  0.0\n"
        }
      ],
      "execution_count": 12
    },
    {
      "id": "47c6c0b4-0f8b-4745-974a-062a760f750d",
      "cell_type": "raw",
      "source": "Taking transpose, so that rows = movies and calculating the cosine similarity of all rating values using item-item approach",
      "metadata": {}
    },
    {
      "id": "bfee6935-3e13-41bd-987b-bd10e9384432",
      "cell_type": "code",
      "source": "movie_cos_similarity = cosine_similarity(fill_missing_ratings0.T)\nprint(fill_missing_ratings0.T, \"\\n\")\nprint(movie_cos_similarity)",
      "metadata": {
        "trusted": true
      },
      "outputs": [
        {
          "name": "stdout",
          "output_type": "stream",
          "text": "user_id     1    2    3\nmovie_id               \n10        4.0  4.5  5.0\n20        3.5  0.0  0.0\n 0        0.0  2.0  0.0\n\n[[1.         0.51110125 0.57498891]\n [0.51110125 1.         0.        ]\n [0.57498891 0.         1.        ]]\n"
        }
      ],
      "execution_count": 5
    },
    {
      "id": "b951a4be-5513-429c-837c-7a9eb1efac0f",
      "cell_type": "raw",
      "source": "Creating a Dataframe with using the movie ID as labels",
      "metadata": {}
    },
    {
      "id": "4a7b1e83-2f88-4c9f-a181-405cf2431cb8",
      "cell_type": "code",
      "source": "df_movie_id = pd.DataFrame(movie_cos_similarity, index=new_matrix.columns, columns=new_matrix.columns)\nprint(df_movie_id)",
      "metadata": {
        "trusted": true
      },
      "outputs": [
        {
          "name": "stdout",
          "output_type": "stream",
          "text": "movie_id        10        20        30\nmovie_id                              \n10        1.000000  0.511101  0.574989\n20        0.511101  1.000000  0.000000\n30        0.574989  0.000000  1.000000\n"
        }
      ],
      "execution_count": 6
    },
    {
      "id": "1224c8d1-51b5-408f-8fad-783aaedf02c4",
      "cell_type": "code",
      "source": "def recommend_movies(movie_id, top_num=5):\n    if movie_id not in df_movie_id.columns:\n        print(\"Movie not found.\")\n        return []\n\n    similarity_scores = df_movie_id[movie_id]\n    \n    similar_movies = similarity_scores.sort_values(ascending=False)[1:top_num + 1]\n\n    similar_movie_ids = similar_movies.index\n\n    recommended_movies_list = movies[movies['movie_id'].isin(similar_movie_ids)]\n\n    recommended_movies_list = recommended_movies_list.copy()\n    recommended_movies_list['similarity'] = recommended_movies_list['movie_id'].map(similar_movies)\n\n    recommended_movies_list = recommended_movies_list.sort_values(by='similarity', ascending=False)\n    recommended_movies_list.reset_index(drop=True, inplace=True)\n    recommended_movies_list.index += 1\n\n    return recommended_movies_list[['title', 'genres', 'similarity']]\n\nrecommend_movies(10)",
      "metadata": {
        "trusted": true
      },
      "outputs": [
        {
          "execution_count": 13,
          "output_type": "execute_result",
          "data": {
            "text/plain": "                 title           genres  similarity\n1  The Notebook (2004)    Drama|Romance    0.574989\n2     Inception (2010)  Action|Thriller    0.511101",
            "text/html": "<div>\n<style scoped>\n    .dataframe tbody tr th:only-of-type {\n        vertical-align: middle;\n    }\n\n    .dataframe tbody tr th {\n        vertical-align: top;\n    }\n\n    .dataframe thead th {\n        text-align: right;\n    }\n</style>\n<table border=\"1\" class=\"dataframe\">\n  <thead>\n    <tr style=\"text-align: right;\">\n      <th></th>\n      <th>title</th>\n      <th>genres</th>\n      <th>similarity</th>\n    </tr>\n  </thead>\n  <tbody>\n    <tr>\n      <th>1</th>\n      <td>The Notebook (2004)</td>\n      <td>Drama|Romance</td>\n      <td>0.574989</td>\n    </tr>\n    <tr>\n      <th>2</th>\n      <td>Inception (2010)</td>\n      <td>Action|Thriller</td>\n      <td>0.511101</td>\n    </tr>\n  </tbody>\n</table>\n</div>"
          },
          "metadata": {}
        }
      ],
      "execution_count": 13
    },
    {
      "id": "59a85646-def9-45d2-aadb-b71646d1fb29",
      "cell_type": "code",
      "source": "from sklearn.metrics import mean_squared_error\nimport numpy as np\n\ndef predict_item_based(user_id, movie_id):\n    if movie_id not in fill_missing_ratings0.columns:\n        return None\n\n    movie_similarities = df_movie_id[movie_id]\n    \n    user_ratings = fill_missing_ratings0.loc[user_id]\n\n    mask = user_ratings > 0\n    sim_scores = movie_similarities[mask]\n    rated_movies = user_ratings[mask]\n\n    if sim_scores.sum() == 0:\n        return None\n\n    weighted_sum = (sim_scores * rated_movies).sum()\n    similarity_sum = sim_scores.sum()\n    return weighted_sum / similarity_sum\n\nactual = []\npredicted = []\n\nsample_data = ratings\n\nfor _, row in sample_data.iterrows():\n    user = row['user_id']\n    movie = row['movie_id']\n    true_rating = row['rating']\n\n    pred_rating = predict_item_based(user, movie)\n\n    if pred_rating is not None:\n        actual.append(true_rating)\n        predicted.append(pred_rating)\n\nrmse = np.sqrt(mean_squared_error(actual, predicted))\nprint(f\"\\nItem Base RMSE score: {rmse:.4f}\")",
      "metadata": {
        "trusted": true
      },
      "outputs": [
        {
          "name": "stdout",
          "output_type": "stream",
          "text": "\nItem Base RMSE score: 0.5871\n"
        }
      ],
      "execution_count": 14
    },
    {
      "id": "fe5a74d4-7d9b-4e0a-8684-ed2f730b047b",
      "cell_type": "code",
      "source": "",
      "metadata": {
        "trusted": true
      },
      "outputs": [],
      "execution_count": null
    }
  ]
}