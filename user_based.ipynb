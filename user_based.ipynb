{
  "metadata": {
    "kernelspec": {
      "name": "python",
      "display_name": "Python (Pyodide)",
      "language": "python"
    },
    "language_info": {
      "codemirror_mode": {
        "name": "python",
        "version": 3
      },
      "file_extension": ".py",
      "mimetype": "text/x-python",
      "name": "python",
      "nbconvert_exporter": "python",
      "pygments_lexer": "ipython3",
      "version": "3.8"
    }
  },
  "nbformat_minor": 5,
  "nbformat": 4,
  "cells": [
    {
      "id": "a75b585e-583e-477f-9e71-18cec391a17f",
      "cell_type": "raw",
      "source": "Loading Data into python variables",
      "metadata": {}
    },
    {
      "id": "638ad567-8bcd-4182-ba36-7e56290d075e",
      "cell_type": "code",
      "source": "import pandas as pd\nfrom sklearn.metrics.pairwise import cosine_similarity\n\nratings = pd.read_csv('ratings.csv')\nmovies = pd.read_csv('movies.csv')",
      "metadata": {
        "trusted": true
      },
      "outputs": [],
      "execution_count": 33
    },
    {
      "id": "442c67d0-e2ca-45fd-b77c-111a599a9138",
      "cell_type": "raw",
      "source": "Creating a Matrix",
      "metadata": {}
    },
    {
      "id": "f27a14a9-99f2-4813-9585-c1280a6590c7",
      "cell_type": "code",
      "source": "new_matrix = ratings.pivot_table(index='user_id', columns='movie_id', values='rating')\nprint(new_matrix)",
      "metadata": {
        "trusted": true
      },
      "outputs": [
        {
          "name": "stdout",
          "output_type": "stream",
          "text": "movie_id   10   20   30\nuser_id                \n1         4.0  3.5  NaN\n2         4.5  NaN  2.0\n3         5.0  NaN  NaN\n"
        }
      ],
      "execution_count": 34
    },
    {
      "id": "d614983b-4026-42ba-9d50-4dbdf2c497bb",
      "cell_type": "raw",
      "source": "Filling missing rating values with zero",
      "metadata": {}
    },
    {
      "id": "1e911bff-a81a-41dd-a9ff-7a5a29431d7a",
      "cell_type": "code",
      "source": "fill_missing_ratings0 = new_matrix.fillna(0)\nprint(fill_missing_ratings0)\n     ",
      "metadata": {
        "trusted": true
      },
      "outputs": [
        {
          "name": "stdout",
          "output_type": "stream",
          "text": "movie_id   10   20   30\nuser_id                \n1         4.0  3.5  0.0\n2         4.5  0.0  2.0\n3         5.0  0.0  0.0\n"
        }
      ],
      "execution_count": 35
    },
    {
      "id": "47c6c0b4-0f8b-4745-974a-062a760f750d",
      "cell_type": "raw",
      "source": "Taking transpose, so that rows = movies and calculating the cosine similarity of all rating values using item-item approach",
      "metadata": {}
    },
    {
      "id": "bfee6935-3e13-41bd-987b-bd10e9384432",
      "cell_type": "code",
      "source": "user_cos_similarity = cosine_similarity(fill_missing_ratings0)\nprint(fill_missing_ratings0, \"\\n\")\nprint(user_cos_similarity)",
      "metadata": {
        "trusted": true
      },
      "outputs": [
        {
          "name": "stdout",
          "output_type": "stream",
          "text": "movie_id   10   20   30\nuser_id                \n1         4.0  3.5  0.0\n2         4.5  0.0  2.0\n          5.0  0.0  0.0\n\n[[1.         0.68771327 0.75257669]\n [0.68771327 1.         0.91381155]\n [0.75257669 0.91381155 1.        ]]\n"
        }
      ],
      "execution_count": 36
    },
    {
      "id": "b951a4be-5513-429c-837c-7a9eb1efac0f",
      "cell_type": "raw",
      "source": "Creating a Dataframe with using the movie ID as labels",
      "metadata": {}
    },
    {
      "id": "4a7b1e83-2f88-4c9f-a181-405cf2431cb8",
      "cell_type": "code",
      "source": "df_user_similarity = pd.DataFrame(user_cos_similarity, index=new_matrix.index, columns=new_matrix.index)\nprint(df_user_similarity)",
      "metadata": {
        "trusted": true
      },
      "outputs": [
        {
          "name": "stdout",
          "output_type": "stream",
          "text": "user_id         1         2         3\nuser_id                              \n1        1.000000  0.687713  0.752577\n2        0.687713  1.000000  0.913812\n3        0.752577  0.913812  1.000000\n"
        }
      ],
      "execution_count": 37
    },
    {
      "id": "1224c8d1-51b5-408f-8fad-783aaedf02c4",
      "cell_type": "code",
      "source": "def recommend_movies(user_id, top_num=5):\n    if user_id not in df_user_similarity.index:\n        print(\"User not found.\")\n        return []\n\n    similarity_scores = df_user_similarity.loc[user_id]\n\n    similar_users = similarity_scores.sort_values(ascending=False)[1:top_num + 1]\n    similar_user_ids = similar_users.index\n    similar_users_ratings = ratings[ratings['user_id'].isin(similar_user_ids)]\n    user_movies = ratings[ratings['user_id'] == user_id]['movie_id']\n    unseen_movies = similar_users_ratings[~similar_users_ratings['movie_id'].isin(user_movies)]\n\n    movie_scores = unseen_movies.groupby('movie_id')['rating'].mean()\n\n    recommended_movies_list = movies[movies['movie_id'].isin(movie_scores.index)].copy()\n    recommended_movies_list['predicted_rating'] = recommended_movies_list['movie_id'].map(movie_scores)\n\n    recommended_movies_list = recommended_movies_list.sort_values(by='predicted_rating', ascending=False)\n    recommended_movies_list.reset_index(drop=True, inplace=True)\n    recommended_movies_list.index += 1\n\n    return recommended_movies_list[['title', 'genres', 'predicted_rating']]\n\nrecommend_movies(3)",
      "metadata": {
        "trusted": true
      },
      "outputs": [
        {
          "execution_count": 38,
          "output_type": "execute_result",
          "data": {
            "text/plain": "                 title           genres  predicted_rating\n1     Inception (2010)  Action|Thriller               3.5\n2  The Notebook (2004)    Drama|Romance               2.0",
            "text/html": "<div>\n<style scoped>\n    .dataframe tbody tr th:only-of-type {\n        vertical-align: middle;\n    }\n\n    .dataframe tbody tr th {\n        vertical-align: top;\n    }\n\n    .dataframe thead th {\n        text-align: right;\n    }\n</style>\n<table border=\"1\" class=\"dataframe\">\n  <thead>\n    <tr style=\"text-align: right;\">\n      <th></th>\n      <th>title</th>\n      <th>genres</th>\n      <th>predicted_rating</th>\n    </tr>\n  </thead>\n  <tbody>\n    <tr>\n      <th>1</th>\n      <td>Inception (2010)</td>\n      <td>Action|Thriller</td>\n      <td>3.5</td>\n    </tr>\n    <tr>\n      <th>2</th>\n      <td>The Notebook (2004)</td>\n      <td>Drama|Romance</td>\n      <td>2.0</td>\n    </tr>\n  </tbody>\n</table>\n</div>"
          },
          "metadata": {}
        }
      ],
      "execution_count": 38
    },
    {
      "id": "6ff6fc3c-9d0a-4455-bc63-a6ce83148fd8",
      "cell_type": "code",
      "source": "def predict_rating(user_id, movie_id, ratings_matrix, similarity_matrix):\n    if movie_id not in ratings_matrix.columns or user_id not in ratings_matrix.index:\n        return None\n\n    user_similarities = similarity_matrix.loc[user_id]\n    \n    movie_ratings = ratings_matrix[movie_id]\n    mask = movie_ratings.notna() \n    filtered_similarities = user_similarities[mask]\n    filtered_ratings = movie_ratings[mask]\n    \n    \n    if filtered_similarities.sum() == 0:\n        return None\n\n    weighted_sum = (filtered_similarities * filtered_ratings).sum()\n    similarity_sum = filtered_similarities.sum()\n    return weighted_sum / similarity_sum",
      "metadata": {
        "trusted": true
      },
      "outputs": [],
      "execution_count": 39
    },
    {
      "id": "47f2772a-9ce7-43dd-a70c-6f90c851f909",
      "cell_type": "code",
      "source": "from sklearn.metrics import mean_squared_error\nimport numpy as np\n\nactual = []\npredicted = []\n\nsample_data = ratings\n\nfor _, row in sample_data.iterrows():\n    user = int(row['user_id'])     \n    movie = int(row['movie_id'])  \n    true_rating = row['rating']\n\n    pred_rating = predict_rating(user, movie, new_matrix, df_user_similarity)\n\n    if pred_rating is not None:\n        actual.append(true_rating)\n        predicted.append(pred_rating)\n\nrmse = np.sqrt(mean_squared_error(actual, predicted))\nprint(f\"\\nUser Base RMSE score: {rmse:.4f}\")",
      "metadata": {
        "trusted": true
      },
      "outputs": [
        {
          "name": "stdout",
          "output_type": "stream",
          "text": "\nUser Base RMSE score: 0.2862\n"
        }
      ],
      "execution_count": 40
    },
    {
      "id": "1cb792b6-fd1e-4cef-a5bf-91c1475c82ed",
      "cell_type": "code",
      "source": "",
      "metadata": {
        "trusted": true
      },
      "outputs": [],
      "execution_count": null
    }
  ]
}